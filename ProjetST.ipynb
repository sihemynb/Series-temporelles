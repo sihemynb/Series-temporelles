{
 "cells": [
  {
   "cell_type": "code",
   "execution_count": 1,
   "id": "3d3d3a31-7319-493f-997c-060336ce0fc0",
   "metadata": {
    "tags": []
   },
   "outputs": [],
   "source": [
    "#Nous avons choisi un tableau de données qui décrit le nombre de passagers de chaque pays en fonction des années \n",
    "#(en particulier entre 1970 et 2021). Il y a également d’autres catégories qui suscitent notre intérêt, \n",
    "#comme les groupes de pays selon leur catégorie économique (ici High-income countries, Low-income countries et Middle-income countries).\n",
    "\n",
    "#Taille : On a choisi 3 pays (France, Etats-Unis et Turquie) et 3 catégories économiques \n",
    "#(High-income countries, Low-income countries et Middle-income countries) pour les lignes du DataFrame et 51 années pour les colonnes. \n",
    "#Ce qui représente 306 valeurs.\n",
    "\n",
    "#Variables : On a six variables représentant les 3 pays (France, Etats-Unis et Turquie) \n",
    "#et les 3 catégories (High-income countries, Low-income countries et Middle-income countries) qu’on a choisi de modéliser.\n",
    "\n",
    "#La variable Xt, pour chaque temps t (ici t représente l’année), représente le nombre de voyageurs qui passent par la France, les Etats-Unis, la Turquie \n",
    "#et dans les pays des catégories économiques mentionnées.\n",
    "\n",
    "#Intervalle de temps : De 1970 à 2021 \n",
    "\n",
    "#Source : https://ourworldindata.org/grapher/air-passengers-carried?tab=table\n",
    "\n",
    "#La problématique: On cherche à analyser l’impact de la COVID-19 et des événements politiques sur le trafic aérien. \n",
    "#On pourra aussi analyser plusieurs pays selon d’autres caractéristiques (économiques). "
   ]
  },
  {
   "cell_type": "code",
   "execution_count": 3,
   "id": "3b2560fc-7202-4218-aee6-97de01fe7c1c",
   "metadata": {
    "tags": []
   },
   "outputs": [],
   "source": [
    "import pandas as pd\n",
    "import requests\n",
    "\n",
    "# Fetch the data.\n",
    "df = pd.read_csv(\"https://ourworldindata.org/grapher/air-passengers-carried.csv?v=1&csvType=full&useColumnShortNames=true\", storage_options = {'User-Agent': 'Our World In Data data fetch/1.0'})\n",
    "\n",
    "# Fetch the metadata\n",
    "metadata = requests.get(\"https://ourworldindata.org/grapher/air-passengers-carried.metadata.json?v=1&csvType=full&useColumnShortNames=true\").json()"
   ]
  },
  {
   "cell_type": "code",
   "execution_count": 8,
   "id": "4b38cf80-d876-4ab0-83c0-f831499907d3",
   "metadata": {
    "tags": []
   },
   "outputs": [
    {
     "data": {
      "text/html": [
       "<div>\n",
       "<style scoped>\n",
       "    .dataframe tbody tr th:only-of-type {\n",
       "        vertical-align: middle;\n",
       "    }\n",
       "\n",
       "    .dataframe tbody tr th {\n",
       "        vertical-align: top;\n",
       "    }\n",
       "\n",
       "    .dataframe thead th {\n",
       "        text-align: right;\n",
       "    }\n",
       "</style>\n",
       "<table border=\"1\" class=\"dataframe\">\n",
       "  <thead>\n",
       "    <tr style=\"text-align: right;\">\n",
       "      <th></th>\n",
       "      <th>Entity</th>\n",
       "      <th>Code</th>\n",
       "      <th>Year</th>\n",
       "      <th>is_air_psgr</th>\n",
       "    </tr>\n",
       "  </thead>\n",
       "  <tbody>\n",
       "    <tr>\n",
       "      <th>0</th>\n",
       "      <td>Afghanistan</td>\n",
       "      <td>AFG</td>\n",
       "      <td>1970</td>\n",
       "      <td>84700.00</td>\n",
       "    </tr>\n",
       "    <tr>\n",
       "      <th>1</th>\n",
       "      <td>Afghanistan</td>\n",
       "      <td>AFG</td>\n",
       "      <td>1971</td>\n",
       "      <td>97400.00</td>\n",
       "    </tr>\n",
       "    <tr>\n",
       "      <th>2</th>\n",
       "      <td>Afghanistan</td>\n",
       "      <td>AFG</td>\n",
       "      <td>1972</td>\n",
       "      <td>104900.00</td>\n",
       "    </tr>\n",
       "    <tr>\n",
       "      <th>3</th>\n",
       "      <td>Afghanistan</td>\n",
       "      <td>AFG</td>\n",
       "      <td>1973</td>\n",
       "      <td>96600.00</td>\n",
       "    </tr>\n",
       "    <tr>\n",
       "      <th>4</th>\n",
       "      <td>Afghanistan</td>\n",
       "      <td>AFG</td>\n",
       "      <td>1974</td>\n",
       "      <td>96100.00</td>\n",
       "    </tr>\n",
       "    <tr>\n",
       "      <th>...</th>\n",
       "      <td>...</td>\n",
       "      <td>...</td>\n",
       "      <td>...</td>\n",
       "      <td>...</td>\n",
       "    </tr>\n",
       "    <tr>\n",
       "      <th>8310</th>\n",
       "      <td>Zimbabwe</td>\n",
       "      <td>ZWE</td>\n",
       "      <td>2016</td>\n",
       "      <td>378803.00</td>\n",
       "    </tr>\n",
       "    <tr>\n",
       "      <th>8311</th>\n",
       "      <td>Zimbabwe</td>\n",
       "      <td>ZWE</td>\n",
       "      <td>2017</td>\n",
       "      <td>282539.00</td>\n",
       "    </tr>\n",
       "    <tr>\n",
       "      <th>8312</th>\n",
       "      <td>Zimbabwe</td>\n",
       "      <td>ZWE</td>\n",
       "      <td>2018</td>\n",
       "      <td>282539.00</td>\n",
       "    </tr>\n",
       "    <tr>\n",
       "      <th>8313</th>\n",
       "      <td>Zimbabwe</td>\n",
       "      <td>ZWE</td>\n",
       "      <td>2020</td>\n",
       "      <td>324226.53</td>\n",
       "    </tr>\n",
       "    <tr>\n",
       "      <th>8314</th>\n",
       "      <td>Zimbabwe</td>\n",
       "      <td>ZWE</td>\n",
       "      <td>2021</td>\n",
       "      <td>75638.12</td>\n",
       "    </tr>\n",
       "  </tbody>\n",
       "</table>\n",
       "<p>8315 rows × 4 columns</p>\n",
       "</div>"
      ],
      "text/plain": [
       "           Entity Code  Year  is_air_psgr\n",
       "0     Afghanistan  AFG  1970     84700.00\n",
       "1     Afghanistan  AFG  1971     97400.00\n",
       "2     Afghanistan  AFG  1972    104900.00\n",
       "3     Afghanistan  AFG  1973     96600.00\n",
       "4     Afghanistan  AFG  1974     96100.00\n",
       "...           ...  ...   ...          ...\n",
       "8310     Zimbabwe  ZWE  2016    378803.00\n",
       "8311     Zimbabwe  ZWE  2017    282539.00\n",
       "8312     Zimbabwe  ZWE  2018    282539.00\n",
       "8313     Zimbabwe  ZWE  2020    324226.53\n",
       "8314     Zimbabwe  ZWE  2021     75638.12\n",
       "\n",
       "[8315 rows x 4 columns]"
      ]
     },
     "execution_count": 8,
     "metadata": {},
     "output_type": "execute_result"
    }
   ],
   "source": [
    "df"
   ]
  },
  {
   "cell_type": "code",
   "execution_count": 10,
   "id": "45207498-1dba-453b-a6ca-390743642ae2",
   "metadata": {
    "tags": []
   },
   "outputs": [
    {
     "name": "stdout",
     "output_type": "stream",
     "text": [
      "             Entity  Year  is_air_psgr\n",
      "2497         France  1970    9108000.0\n",
      "2498         France  1971    9569200.0\n",
      "2499         France  1972   11285100.0\n",
      "2500         France  1973   11957500.0\n",
      "2501         France  1974   12159300.0\n",
      "...             ...   ...          ...\n",
      "7856  United States  2017  849403000.0\n",
      "7857  United States  2018  889024000.0\n",
      "7858  United States  2019  926737000.0\n",
      "7859  United States  2020  369501000.0\n",
      "7860  United States  2021  666153000.0\n",
      "\n",
      "[300 rows x 3 columns]\n"
     ]
    }
   ],
   "source": [
    "#Tri\n",
    "pays = ['France','Turkey','United States','High-income countries','Middle-income countries','Low-income countries']\n",
    "df_filtre = df.loc[df['Entity'].isin(pays)]\n",
    "df_filtre = df_filtre.drop(columns=['Code'])\n",
    "print(df_filtre)"
   ]
  },
  {
   "cell_type": "code",
   "execution_count": 12,
   "id": "995b2575-0530-4240-96f7-d652c6b6d94c",
   "metadata": {
    "tags": []
   },
   "outputs": [],
   "source": [
    "df_filtre.to_csv('air-passengers.csv', index=False)  "
   ]
  },
  {
   "cell_type": "code",
   "execution_count": 64,
   "id": "21531eef-8160-41ed-928f-030897226416",
   "metadata": {
    "tags": []
   },
   "outputs": [],
   "source": [
    "df_france = df_filtre.iloc[0:52,:]\n",
    "df_hic = df_filtre.iloc[52:104,:]\n",
    "df_lic = df_filtre.iloc[104:148,:]\n",
    "df_mic = df_filtre.iloc[148:196,:]\n",
    "df_turkey = df_filtre.iloc[196:248,:]\n",
    "df_usa = df_filtre.iloc[248:300,:]"
   ]
  },
  {
   "cell_type": "code",
   "execution_count": 70,
   "id": "85550551-c392-4c8f-8d48-04ff5e8b1779",
   "metadata": {},
   "outputs": [],
   "source": [
    "#Sauvegarde CSV \n",
    "df_france.to_csv('france-passengers.csv')\n",
    "df_hic.to_csv('hic-passengers.csv')\n",
    "df_lic.to_csv('lic-passengers.csv')\n",
    "df_mic.to_csv('mic-passengers.csv')\n",
    "df_turkey.to_csv('turkey-passengers.csv')\n",
    "df_usa.to_csv('usa-passengers.csv')"
   ]
  }
 ],
 "metadata": {
  "kernelspec": {
   "display_name": "Python [conda env:base] *",
   "language": "python",
   "name": "conda-base-py"
  },
  "language_info": {
   "codemirror_mode": {
    "name": "ipython",
    "version": 3
   },
   "file_extension": ".py",
   "mimetype": "text/x-python",
   "name": "python",
   "nbconvert_exporter": "python",
   "pygments_lexer": "ipython3",
   "version": "3.11.4"
  }
 },
 "nbformat": 4,
 "nbformat_minor": 5
}
